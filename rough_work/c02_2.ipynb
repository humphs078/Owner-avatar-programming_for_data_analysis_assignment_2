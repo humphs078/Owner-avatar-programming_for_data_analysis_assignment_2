{
 "cells": [
  {
   "cell_type": "code",
   "execution_count": 1,
   "metadata": {},
   "outputs": [],
   "source": [
    "import pandas as pd\n",
    "import matplotlib.pyplot as plt"
   ]
  },
  {
   "cell_type": "code",
   "execution_count": 2,
   "metadata": {},
   "outputs": [],
   "source": [
    "co2_ipcc = pd.read_excel('/home/humphs01/Documents/ATU/programming_for_data_analysis_assignment_2/datasets/historic/co2/41586_2008_BFnature06949_MOESM31_ESM.xls', sheet_name='2.  Vostok-TD-Dome C')\n",
    "co2_ipcc_new = pd.read_excel('/home/humphs01/Documents/ATU/programming_for_data_analysis_assignment_2/datasets/historic/co2/41586_2008_BFnature06949_MOESM31_ESM.xls', sheet_name='1.  new CO2 data')"
   ]
  },
  {
   "cell_type": "code",
   "execution_count": 3,
   "metadata": {},
   "outputs": [],
   "source": [
    "monnin_ipcc = co2_ipcc.iloc[6:189, 1:3]\n",
    "pettit_ipcc = co2_ipcc.iloc[19:353, 5:7]\n",
    "siegenthaler_1_ipcc = co2_ipcc.iloc[6:26, 16:18]\n",
    "siegenthaler_2_ipcc = co2_ipcc.iloc[6:328, 12:14]\n",
    "luthi_ipcc = co2_ipcc_new.iloc[16:253, 1:3]\n"
   ]
  },
  {
   "cell_type": "code",
   "execution_count": 4,
   "metadata": {},
   "outputs": [],
   "source": [
    "monnin_ipcc.rename(columns=({'Unnamed: 1':'yr_bp', 'Unnamed: 2':'co2_ppmv'}), inplace=True)\n",
    "pettit_ipcc.rename(columns=({'Unnamed: 5':'yr_bp', 'Unnamed: 6':'co2_ppmv'}), inplace=True)\n",
    "siegenthaler_1_ipcc.rename(columns=({'Unnamed: 16':'yr_bp', 'Unnamed: 17':'co2_ppmv'}), inplace=True)\n",
    "siegenthaler_2_ipcc.rename(columns=({'Unnamed: 12':'yr_bp', 'Unnamed: 13':'co2_ppmv'}), inplace=True)\n",
    "luthi_ipcc.rename(columns=({'Unnamed: 1':'yr_bp', 'Unnamed: 2':'co2_ppmv'}), inplace=True)"
   ]
  },
  {
   "cell_type": "code",
   "execution_count": 5,
   "metadata": {},
   "outputs": [],
   "source": [
    "def year(sample):\n",
    "    sample['year'] = 1950 - (sample['yr_bp'])\n",
    "    sample['years_before_present'] = 2023 - sample['year']\n",
    "    sample.dropna(axis=0, inplace=True)\n",
    "    return sample"
   ]
  },
  {
   "cell_type": "code",
   "execution_count": 7,
   "metadata": {},
   "outputs": [],
   "source": [
    "studies = [monnin_ipcc ,pettit_ipcc, siegenthaler_1_ipcc, siegenthaler_2_ipcc, luthi_ipcc]\n",
    "\n",
    "for study in studies:\n",
    "    year(study)"
   ]
  },
  {
   "cell_type": "code",
   "execution_count": 8,
   "metadata": {},
   "outputs": [
    {
     "data": {
      "text/html": [
       "<div>\n",
       "<style scoped>\n",
       "    .dataframe tbody tr th:only-of-type {\n",
       "        vertical-align: middle;\n",
       "    }\n",
       "\n",
       "    .dataframe tbody tr th {\n",
       "        vertical-align: top;\n",
       "    }\n",
       "\n",
       "    .dataframe thead th {\n",
       "        text-align: right;\n",
       "    }\n",
       "</style>\n",
       "<table border=\"1\" class=\"dataframe\">\n",
       "  <thead>\n",
       "    <tr style=\"text-align: right;\">\n",
       "      <th></th>\n",
       "      <th>yr_bp</th>\n",
       "      <th>co2_ppmv</th>\n",
       "      <th>year</th>\n",
       "      <th>years_before_present</th>\n",
       "    </tr>\n",
       "  </thead>\n",
       "  <tbody>\n",
       "    <tr>\n",
       "      <th>16</th>\n",
       "      <td>665645</td>\n",
       "      <td>178.2</td>\n",
       "      <td>-663695</td>\n",
       "      <td>665718</td>\n",
       "    </tr>\n",
       "    <tr>\n",
       "      <th>17</th>\n",
       "      <td>666174</td>\n",
       "      <td>178.5</td>\n",
       "      <td>-664224</td>\n",
       "      <td>666247</td>\n",
       "    </tr>\n",
       "    <tr>\n",
       "      <th>18</th>\n",
       "      <td>666995</td>\n",
       "      <td>172.7</td>\n",
       "      <td>-665045</td>\n",
       "      <td>667068</td>\n",
       "    </tr>\n",
       "    <tr>\n",
       "      <th>19</th>\n",
       "      <td>667569</td>\n",
       "      <td>171.6</td>\n",
       "      <td>-665619</td>\n",
       "      <td>667642</td>\n",
       "    </tr>\n",
       "    <tr>\n",
       "      <th>20</th>\n",
       "      <td>668447</td>\n",
       "      <td>175.6</td>\n",
       "      <td>-666497</td>\n",
       "      <td>668520</td>\n",
       "    </tr>\n",
       "    <tr>\n",
       "      <th>...</th>\n",
       "      <td>...</td>\n",
       "      <td>...</td>\n",
       "      <td>...</td>\n",
       "      <td>...</td>\n",
       "    </tr>\n",
       "    <tr>\n",
       "      <th>248</th>\n",
       "      <td>794608</td>\n",
       "      <td>199.4</td>\n",
       "      <td>-792658</td>\n",
       "      <td>794681</td>\n",
       "    </tr>\n",
       "    <tr>\n",
       "      <th>249</th>\n",
       "      <td>795202</td>\n",
       "      <td>195.2</td>\n",
       "      <td>-793252</td>\n",
       "      <td>795275</td>\n",
       "    </tr>\n",
       "    <tr>\n",
       "      <th>250</th>\n",
       "      <td>796467</td>\n",
       "      <td>189.3</td>\n",
       "      <td>-794517</td>\n",
       "      <td>796540</td>\n",
       "    </tr>\n",
       "    <tr>\n",
       "      <th>251</th>\n",
       "      <td>797099</td>\n",
       "      <td>188.4</td>\n",
       "      <td>-795149</td>\n",
       "      <td>797172</td>\n",
       "    </tr>\n",
       "    <tr>\n",
       "      <th>252</th>\n",
       "      <td>798512</td>\n",
       "      <td>191</td>\n",
       "      <td>-796562</td>\n",
       "      <td>798585</td>\n",
       "    </tr>\n",
       "  </tbody>\n",
       "</table>\n",
       "<p>237 rows × 4 columns</p>\n",
       "</div>"
      ],
      "text/plain": [
       "      yr_bp co2_ppmv     year years_before_present\n",
       "16   665645    178.2  -663695               665718\n",
       "17   666174    178.5  -664224               666247\n",
       "18   666995    172.7  -665045               667068\n",
       "19   667569    171.6  -665619               667642\n",
       "20   668447    175.6  -666497               668520\n",
       "..      ...      ...      ...                  ...\n",
       "248  794608    199.4  -792658               794681\n",
       "249  795202    195.2  -793252               795275\n",
       "250  796467    189.3  -794517               796540\n",
       "251  797099    188.4  -795149               797172\n",
       "252  798512      191  -796562               798585\n",
       "\n",
       "[237 rows x 4 columns]"
      ]
     },
     "execution_count": 8,
     "metadata": {},
     "output_type": "execute_result"
    }
   ],
   "source": [
    "luthi_ipcc"
   ]
  }
 ],
 "metadata": {
  "kernelspec": {
   "display_name": "base",
   "language": "python",
   "name": "python3"
  },
  "language_info": {
   "codemirror_mode": {
    "name": "ipython",
    "version": 3
   },
   "file_extension": ".py",
   "mimetype": "text/x-python",
   "name": "python",
   "nbconvert_exporter": "python",
   "pygments_lexer": "ipython3",
   "version": "3.11.5"
  }
 },
 "nbformat": 4,
 "nbformat_minor": 2
}
